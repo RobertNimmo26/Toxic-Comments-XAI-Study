{
  "cells": [
    {
      "cell_type": "code",
      "execution_count": null,
      "metadata": {
        "id": "kAfnSU2jPOyn"
      },
      "outputs": [],
      "source": [
        "# install packages\n",
        "!pip install detoxify\n",
        "!pip install lime"
      ]
    },
    {
      "cell_type": "code",
      "execution_count": null,
      "metadata": {
        "id": "PrCF97zzPUCY"
      },
      "outputs": [],
      "source": [
        "# import packages\n",
        "from detoxify import Detoxify\n",
        "\n",
        "import lime\n",
        "from lime.lime_text import LimeTextExplainer\n",
        "\n",
        "import numpy as np\n",
        "import pandas as pd\n",
        "\n",
        "import json\n",
        "\n",
        "from google.colab import files"
      ]
    },
    {
      "cell_type": "code",
      "execution_count": null,
      "metadata": {
        "id": "VnHt7ienrWAN"
      },
      "outputs": [],
      "source": [
        "# load dataframe\n",
        "df = pd.read_csv('drive/MyDrive/University/msci_project/results_toxicity_labels.csv')\n",
        "\n",
        "# df = df[[\"id\",\"comment_text\",\"toxic\"]]\n",
        "df_toxic = df.loc[df['toxicity_label'] == \"toxicity\"]\n",
        "df_nontoxic = df.loc[df['toxicity_label'] == \"non_toxicity\"]"
      ]
    },
    {
      "cell_type": "code",
      "execution_count": null,
      "metadata": {
        "id": "SBoMPQJi6GWo"
      },
      "outputs": [],
      "source": [
        "df.head(6)"
      ]
    },
    {
      "cell_type": "code",
      "execution_count": null,
      "metadata": {
        "id": "U8ybbWYnjWot"
      },
      "outputs": [],
      "source": [
        "# create lime explainer object\n",
        "class_names = ['Non-toxic','Toxic']\n",
        "explainer = LimeTextExplainer(class_names=class_names)"
      ]
    },
    {
      "cell_type": "code",
      "execution_count": null,
      "metadata": {
        "id": "UE1XM_mIPfPI"
      },
      "outputs": [],
      "source": [
        "# prediction function\n",
        "def predict(x):\n",
        "  results = Detoxify('original-small').predict(x)[\"toxicity\"]\n",
        "  results_both = np.transpose(np.array([1-np.array(results),results]))\n",
        "  return results_both"
      ]
    },
    {
      "cell_type": "code",
      "execution_count": null,
      "metadata": {
        "id": "apAlx5QhsBEb"
      },
      "outputs": [],
      "source": [
        "def create_exp_dict(exp, prediction_proba, x, id):\n",
        "  exp = exp.as_list()\n",
        "  output = {}\n",
        "  output[\"id\"] = id\n",
        "  output[\"comment\"] = x\n",
        "  if prediction_proba >= 0.5:\n",
        "    output[\"prediction_proba\"] = round(float(prediction_proba) * 100, 2)\n",
        "    output[\"prediction_label\"] = \"Toxic\"\n",
        "  else:\n",
        "    output[\"prediction_proba\"] = round(float(1-np.array(prediction_proba)) * 100, 2)\n",
        "    output[\"prediction_label\"] = \"Non-toxic\"\n",
        "\n",
        "  output[\"new_important_words\"] = []\n",
        "\n",
        "  output[\"important_words\"] = []\n",
        "\n",
        "  temp_weight = set()\n",
        "  for i in exp:\n",
        "    if i[1] >0:\n",
        "      iw_label = \"Toxic\"\n",
        "    else:\n",
        "      iw_label = \"Non-toxic\"\n",
        "\n",
        "    iw_weight = abs(round(float(i[1]),2))\n",
        "    temp_weight.add(iw_weight)\n",
        "    output[\"important_words\"].append({\"word\":i[0], \"weight\":iw_weight, \"label\":iw_label})\n",
        "\n",
        "  output[\"checked\"] = False\n",
        "\n",
        "  # Checking if all of the iw weights are 0.0, if so we skip that comment\n",
        "  if temp_weight == {0.0}:\n",
        "    return None\n",
        "  else:\n",
        "    return output"
      ]
    },
    {
      "cell_type": "code",
      "execution_count": null,
      "metadata": {
        "id": "eotf68fQPnq4"
      },
      "outputs": [],
      "source": [
        "def generate_explanations(row, verbose=False):\n",
        "  if verbose:\n",
        "    print(f\"Generating explanations for {row.id}\")\n",
        "  exp = explainer.explain_instance(row.comment_text, predict, num_features=10, num_samples=100)\n",
        "  prediction_proba = row.toxicity\n",
        "  return create_exp_dict(exp, prediction_proba, row.comment_text, row.id)"
      ]
    },
    {
      "cell_type": "code",
      "execution_count": null,
      "metadata": {
        "id": "Iv7lKyIDVytO"
      },
      "outputs": [],
      "source": [
        "temp_df = df.groupby(\"toxicity_label\").sample(n=200, random_state=10).sample(frac = 1, random_state=10)"
      ]
    },
    {
      "cell_type": "code",
      "execution_count": null,
      "metadata": {
        "id": "FftJ7aAPRhSk"
      },
      "outputs": [],
      "source": [
        "# generate explanation for each row\n",
        "output = []\n",
        "for row in temp_df.itertuples():\n",
        "  num_alpha_chars = len([ele for ele in row.comment_text if ele.isalpha()])\n",
        "\n",
        "  if (1-num_alpha_chars/len(row.comment_text)) < 0.30:\n",
        "    exp = generate_explanations(row, True)\n",
        "    if exp == None:\n",
        "      print(f\"Skip explanations for {row.id}\")\n",
        "      continue\n",
        "    \n",
        "    output.append(exp)"
      ]
    },
    {
      "cell_type": "code",
      "execution_count": null,
      "metadata": {
        "id": "8dsR4n0AmTKP"
      },
      "outputs": [],
      "source": [
        "# serializing json\n",
        "json_object = json.dumps(output)\n",
        " \n",
        "# writing to sample.json\n",
        "with open(\"explanationData.json\", \"w\") as outfile:\n",
        "    outfile.write(json_object)\n",
        "\n",
        "files.download(\"explanationData.json\") "
      ]
    },
    {
      "cell_type": "code",
      "execution_count": null,
      "metadata": {
        "id": "_i5IfPaE3pUj"
      },
      "outputs": [],
      "source": []
    }
  ],
  "metadata": {
    "colab": {
      "provenance": [],
      "mount_file_id": "1IwvgIyXQ-XEi82HmC9EtqDHN3BAj7ibd",
      "authorship_tag": "ABX9TyOvIQSlicYu/uFc7QNYPdbC"
    },
    "kernelspec": {
      "display_name": "Python 3",
      "name": "python3"
    },
    "language_info": {
      "name": "python"
    }
  },
  "nbformat": 4,
  "nbformat_minor": 0
}