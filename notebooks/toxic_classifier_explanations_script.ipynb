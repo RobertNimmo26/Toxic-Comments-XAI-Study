{
  "nbformat": 4,
  "nbformat_minor": 0,
  "metadata": {
    "colab": {
      "provenance": [],
      "mount_file_id": "1IwvgIyXQ-XEi82HmC9EtqDHN3BAj7ibd",
      "authorship_tag": "ABX9TyNxz/YNWazMLRFV6YMsb6Me",
      "include_colab_link": true
    },
    "kernelspec": {
      "name": "python3",
      "display_name": "Python 3"
    },
    "language_info": {
      "name": "python"
    }
  },
  "cells": [
    {
      "cell_type": "markdown",
      "metadata": {
        "id": "view-in-github",
        "colab_type": "text"
      },
      "source": [
        "<a href=\"https://colab.research.google.com/github/RobertNimmo26/Toxic-Comments-XAI-Study/blob/main/notebooks/toxic_classifier_explanations_script.ipynb\" target=\"_parent\"><img src=\"https://colab.research.google.com/assets/colab-badge.svg\" alt=\"Open In Colab\"/></a>"
      ]
    },
    {
      "cell_type": "code",
      "execution_count": null,
      "metadata": {
        "id": "kAfnSU2jPOyn"
      },
      "outputs": [],
      "source": [
        "# install packages\n",
        "!pip install detoxify\n",
        "!pip install lime"
      ]
    },
    {
      "cell_type": "code",
      "source": [
        "# import packages\n",
        "from detoxify import Detoxify\n",
        "\n",
        "import lime\n",
        "from lime.lime_text import LimeTextExplainer\n",
        "\n",
        "import numpy as np\n",
        "import pandas as pd\n",
        "\n",
        "import json\n",
        "\n",
        "from google.colab import files"
      ],
      "metadata": {
        "id": "PrCF97zzPUCY"
      },
      "execution_count": null,
      "outputs": []
    },
    {
      "cell_type": "code",
      "source": [
        "# load dataframe\n",
        "df = pd.read_csv('drive/MyDrive/University/msci_project/data_output.csv')\n",
        "\n",
        "df = df[[\"id\",\"comment_text\",\"toxic\"]]\n",
        "df_toxic = df.loc[df['toxic'] == 1]\n",
        "df_nontoxic = df.loc[df['toxic'] == 0]"
      ],
      "metadata": {
        "id": "VnHt7ienrWAN"
      },
      "execution_count": null,
      "outputs": []
    },
    {
      "cell_type": "code",
      "source": [
        "# create lime explainer object\n",
        "class_names = ['Non-toxic','Toxic']\n",
        "explainer = LimeTextExplainer(class_names=class_names)"
      ],
      "metadata": {
        "id": "U8ybbWYnjWot"
      },
      "execution_count": null,
      "outputs": []
    },
    {
      "cell_type": "code",
      "source": [
        "# prediction function\n",
        "def predict(x):\n",
        "  results = Detoxify('original').predict(x)[\"toxicity\"]\n",
        "  results_both = np.transpose(np.array([1-np.array(results),results]))\n",
        "  return results_both"
      ],
      "metadata": {
        "id": "UE1XM_mIPfPI"
      },
      "execution_count": null,
      "outputs": []
    },
    {
      "cell_type": "code",
      "source": [
        "def create_exp_dict(exp, prediction_proba, x, id):\n",
        "  exp = exp.as_list()\n",
        "  output = {}\n",
        "  output[\"id\"] = id\n",
        "  output[\"comment\"] = x\n",
        "  if prediction_proba >= 0.8:\n",
        "    output[\"prediction_proba\"] = round(float(prediction_proba),4) * 100\n",
        "    output[\"prediction_label\"] = \"Toxic\"\n",
        "  else:\n",
        "    output[\"prediction_proba\"] = round(float(1-np.array(prediction_proba)),4) * 100\n",
        "    output[\"prediction_label\"] = \"Non-toxic\"\n",
        "\n",
        "\n",
        "  output[\"important_words\"] = []\n",
        "  for i in exp:\n",
        "    output[\"important_words\"].append({\"word\":i[0], \"weight\":round(float(i[1]),4)})\n",
        "\n",
        "  return output"
      ],
      "metadata": {
        "id": "apAlx5QhsBEb"
      },
      "execution_count": null,
      "outputs": []
    },
    {
      "cell_type": "code",
      "source": [
        "def generate_explanations(row, verbose=False):\n",
        "  if verbose:\n",
        "    print(f\"Generating explanations for {row.id}\")\n",
        "  exp = explainer.explain_instance(row.comment_text, predict, num_features=10, num_samples=100)\n",
        "  prediction_proba = Detoxify('original').predict(row.comment_text)[\"toxicity\"]\n",
        "  return create_exp_dict(exp, prediction_proba, row.comment_text, row.id)"
      ],
      "metadata": {
        "id": "eotf68fQPnq4"
      },
      "execution_count": null,
      "outputs": []
    },
    {
      "cell_type": "code",
      "source": [
        "temp_df = df.groupby(\"toxic\").sample(n=60, random_state=10).sample(frac = 1)"
      ],
      "metadata": {
        "id": "Iv7lKyIDVytO"
      },
      "execution_count": null,
      "outputs": []
    },
    {
      "cell_type": "code",
      "source": [
        "# generate explanation for each row\n",
        "output = []\n",
        "for row in temp_df.itertuples():\n",
        "  exp = generate_explanations(row, True)\n",
        "  output.append(exp)"
      ],
      "metadata": {
        "id": "FftJ7aAPRhSk"
      },
      "execution_count": null,
      "outputs": []
    },
    {
      "cell_type": "code",
      "source": [
        "# serializing json\n",
        "json_object = json.dumps(output)\n",
        " \n",
        "# writing to sample.json\n",
        "with open(\"explanationData.json\", \"w\") as outfile:\n",
        "    outfile.write(json_object)\n",
        "\n",
        "files.download(\"explanationData.json\") "
      ],
      "metadata": {
        "id": "8dsR4n0AmTKP"
      },
      "execution_count": null,
      "outputs": []
    },
    {
      "cell_type": "code",
      "source": [
        "temp_comment_text = df.loc[df[\"id\"]==\"05fea958cf35e6ed\"][\"comment_text\"].values[0]"
      ],
      "metadata": {
        "id": "GbUNUa78kW0w"
      },
      "execution_count": null,
      "outputs": []
    },
    {
      "cell_type": "code",
      "source": [
        "prediction_proba = Detoxify('original').predict(temp_comment_text)[\"toxicity\"]"
      ],
      "metadata": {
        "id": "atHMPVHCsi6l"
      },
      "execution_count": null,
      "outputs": []
    },
    {
      "cell_type": "code",
      "source": [
        "prediction_proba"
      ],
      "metadata": {
        "id": "ONNu9eB4tgGH"
      },
      "execution_count": null,
      "outputs": []
    },
    {
      "cell_type": "code",
      "source": [],
      "metadata": {
        "id": "_i5IfPaE3pUj"
      },
      "execution_count": null,
      "outputs": []
    }
  ]
}